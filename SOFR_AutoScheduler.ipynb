{
 "cells": [
  {
   "cell_type": "code",
   "execution_count": null,
   "metadata": {},
   "outputs": [
    {
     "name": "stdout",
     "output_type": "stream",
     "text": [
      "run this code everyday 8 am\n"
     ]
    }
   ],
   "source": [
    "#importing Libraries\n",
    "#schedule lets you run Python functions periodically at pre-determined intervals using a simple syntax.\n",
    "import wget\n",
    "import schedule\n",
    "import time\n",
    "\n",
    "url = \"https://websvcgatewayx2.frbny.org/mktrates_external_httponly/services/v1_0/mktRates/excel/retrieveLastN?n=25&rateType=R3\"\n",
    "\n",
    "def run_code():\n",
    "    wget.download(url, r'C:\\Users\\mehta\\Desktop\\Internship Projects\\SOFR DATA')\n",
    "    print(\"run this code everyday 8 am\")\n",
    "schedule.every().day.at(\"09:43\").do(run_code)\n",
    " \n",
    "while True:\n",
    "    schedule.run_pending()\n",
    "    time.sleep(1)\n",
    "    \n",
    "\n",
    "\n"
   ]
  },
  {
   "cell_type": "code",
   "execution_count": null,
   "metadata": {},
   "outputs": [],
   "source": []
  }
 ],
 "metadata": {
  "kernelspec": {
   "display_name": "Python 3",
   "language": "python",
   "name": "python3"
  },
  "language_info": {
   "codemirror_mode": {
    "name": "ipython",
    "version": 3
   },
   "file_extension": ".py",
   "mimetype": "text/x-python",
   "name": "python",
   "nbconvert_exporter": "python",
   "pygments_lexer": "ipython3",
   "version": "3.7.4"
  }
 },
 "nbformat": 4,
 "nbformat_minor": 2
}
